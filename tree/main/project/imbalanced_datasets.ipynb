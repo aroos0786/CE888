{
 "cells": [
  {
   "cell_type": "code",
   "execution_count": 1,
   "metadata": {},
   "outputs": [],
   "source": [
    "import pandas as pd\n",
    "import numpy as np\n",
    "import matplotlib.pyplot as plt\n",
    "from sklearn import preprocessing\n",
    "from IPython.display import display\n",
    "from sklearn.model_selection import StratifiedKFold\n",
    "from sklearn.ensemble import RandomForestClassifier\n",
    "from sklearn.metrics import confusion_matrix, ConfusionMatrixDisplay, silhouette_score, pairwise_distances\n",
    "from sklearn.cluster import KMeans"
   ]
  },
  {
   "cell_type": "code",
   "execution_count": 4,
   "metadata": {},
   "outputs": [],
   "source": [
    "def readingDatasets(file_path, columns=None, headers=None):\n",
    "    od = pd.read_csv(file_path, header=headers, names=columns)\n",
    "    display(od.head())\n",
    "    return od\n",
    "\n",
    "def analyzingDatasets(req_dataset, column_labels):\n",
    "    display(req_dataset.describe())\n",
    "    special_classes = req_dataset[column_labels].unique() #uniques_classes\n",
    "    print(f\"\\nThe Classes exists in dataset: {special_classes}\\n\")\n",
    "    print(\"No of Data Rows having each class:\")\n",
    "    for datalabels in special_classes:\n",
    "        rows = len(req_dataset[req_dataset[column_labels] == datalabels])\n",
    "        print(f\"{rows} number of data rows for {datalabels} class.\")"
   ]
  }
 ],
 "metadata": {
  "interpreter": {
   "hash": "63fd5069d213b44bf678585dea6b12cceca9941eaf7f819626cde1f2670de90d"
  },
  "kernelspec": {
   "display_name": "Python 3.9.6 64-bit",
   "language": "python",
   "name": "python3"
  },
  "language_info": {
   "codemirror_mode": {
    "name": "ipython",
    "version": 3
   },
   "file_extension": ".py",
   "mimetype": "text/x-python",
   "name": "python",
   "nbconvert_exporter": "python",
   "pygments_lexer": "ipython3",
   "version": "3.9.6"
  },
  "orig_nbformat": 4
 },
 "nbformat": 4,
 "nbformat_minor": 2
}
